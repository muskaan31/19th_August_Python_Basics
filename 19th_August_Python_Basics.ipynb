{
 "cells": [
  {
   "cell_type": "code",
   "execution_count": 1,
   "id": "94fb4c4f-bdee-41cb-95a3-4ebd1a881a33",
   "metadata": {},
   "outputs": [
    {
     "name": "stdout",
     "output_type": "stream",
     "text": [
      "4\n",
      "3\n"
     ]
    }
   ],
   "source": [
    "'''Declare two variables, `x` and `y`, and assign them integer values.\n",
    "Swap the values of these variables without using any temporary\n",
    "variable.'''\n",
    "\n",
    "#Declaring variables and assigning values to them\n",
    "a=3\n",
    "b=4\n",
    "#Swapping variables without third variable\n",
    "a=a+b\n",
    "b=a-b\n",
    "a=a-b\n",
    "#Printing the variables with swapped values\n",
    "print(a)\n",
    "print(b)\n"
   ]
  },
  {
   "cell_type": "code",
   "execution_count": 2,
   "id": "097e44d5-5251-4970-9b9e-d2a14a1d87f8",
   "metadata": {},
   "outputs": [
    {
     "name": "stdin",
     "output_type": "stream",
     "text": [
      " 2\n",
      " 4\n"
     ]
    },
    {
     "name": "stdout",
     "output_type": "stream",
     "text": [
      "8\n"
     ]
    }
   ],
   "source": [
    "'''Create a program that calculates the area of a rectangle. Take the\n",
    "length and width as inputs from the user and store them in variables.\n",
    "Calculate and display the area.'''\n",
    "\n",
    "#Taking length and width as input from the user\n",
    "length=int(input())\n",
    "width=int(input())\n",
    "#Calculating area of the rectangle\n",
    "area = length*width\n",
    "#Printing the area\n",
    "print(area)"
   ]
  },
  {
   "cell_type": "code",
   "execution_count": 6,
   "id": "aeb9bbd3-bafc-409d-95b7-89fef67ac5ea",
   "metadata": {},
   "outputs": [
    {
     "name": "stdin",
     "output_type": "stream",
     "text": [
      "Enter the value of celsius 23\n"
     ]
    },
    {
     "name": "stdout",
     "output_type": "stream",
     "text": [
      "73.4\n"
     ]
    }
   ],
   "source": [
    "'''Write a Python program that converts temperature from Celsius to\n",
    "Fahrenheit. Take the temperature in Celsius as input, store it in a\n",
    "variable, convert it to Fahrenheit, and display the result.'''\n",
    "\n",
    "#Take the value of Celsius from the user \n",
    "celsius = int(input(\"Enter the value of celsius\"))\n",
    "#Convert from celsius to farenheit\n",
    "farenheit = (celsius*9/5)+32\n",
    "#Print the value in farenheit\n",
    "print(farenheit)"
   ]
  },
  {
   "cell_type": "code",
   "execution_count": null,
   "id": "f7d23515-caf7-4590-a86b-d8644df9f891",
   "metadata": {},
   "outputs": [],
   "source": [
    "                                                   STRING BASED QUESTIONS"
   ]
  },
  {
   "cell_type": "code",
   "execution_count": 8,
   "id": "9f8cb82c-a57a-46e9-9e90-bc9a1906eccd",
   "metadata": {},
   "outputs": [
    {
     "name": "stdin",
     "output_type": "stream",
     "text": [
      "Please enter a string Muskaan is a girl\n"
     ]
    },
    {
     "name": "stdout",
     "output_type": "stream",
     "text": [
      "17\n"
     ]
    }
   ],
   "source": [
    "'''Write a Python program that takes a string as input and prints the length of\n",
    "the string.'''\n",
    "\n",
    "#Take the string as input\n",
    "s1 = input(\"Please enter a string\")\n",
    "\n",
    "#Calculate the length of the string\n",
    "length = len(s1)\n",
    "\n",
    "#Print the length of the string\n",
    "print(length)"
   ]
  },
  {
   "cell_type": "code",
   "execution_count": 1,
   "id": "bc88b910-1d6c-4ee7-8cdf-58a3ebff1064",
   "metadata": {},
   "outputs": [
    {
     "name": "stdin",
     "output_type": "stream",
     "text": [
      "Please enter a string Muskaan\n"
     ]
    },
    {
     "name": "stdout",
     "output_type": "stream",
     "text": [
      "3\n"
     ]
    }
   ],
   "source": [
    "'''Create a program that takes a sentence from the user and counts the number\n",
    "of vowels (a, e, i, o, u) in the string.'''\n",
    "\n",
    "#Taking all the vowels as a string\n",
    "vowels = \"aeiouAEIOU\"\n",
    "count=0\n",
    "#Take string as input\n",
    "str = input(\"Please enter a string\")\n",
    "for char in str:\n",
    "    if char in vowels:\n",
    "        count+=1\n",
    "print(count)\n",
    "\n"
   ]
  },
  {
   "cell_type": "code",
   "execution_count": 3,
   "id": "944781f0-8ab2-49ab-beab-1ce560848ffd",
   "metadata": {},
   "outputs": [
    {
     "name": "stdin",
     "output_type": "stream",
     "text": [
      "Please enter a string Muskaan\n"
     ]
    },
    {
     "name": "stdout",
     "output_type": "stream",
     "text": [
      "naaksuM\n"
     ]
    }
   ],
   "source": [
    "'''Given a string, reverse the order of characters using string slicing and print\n",
    "the reversed string.'''\n",
    "\n",
    "#Taking string as input\n",
    "str1= input(\"Please enter a string\")\n",
    "#Reversing string using string slicing functions\n",
    "rev= str1[::-1]\n",
    "#Print the reversed string\n",
    "print(rev)"
   ]
  },
  {
   "cell_type": "code",
   "execution_count": 12,
   "id": "e4fc740c-8fbe-4616-bcce-075c03667d99",
   "metadata": {},
   "outputs": [
    {
     "name": "stdin",
     "output_type": "stream",
     "text": [
      "Please enter a string Mom\n"
     ]
    },
    {
     "name": "stdout",
     "output_type": "stream",
     "text": [
      " This string is palindrome string\n"
     ]
    }
   ],
   "source": [
    "'''Write a program that takes a string as input and checks if it is a palindrome'''\n",
    "#Taking string as input\n",
    "str= input(\"Please enter a string\")\n",
    "str1=str.upper()\n",
    "#Reversing string using string slicing functions\n",
    "rev= str1[::-1]\n",
    "rev1 = rev.upper()\n",
    "#Check if string is palindrome\n",
    "if rev1==str1:\n",
    "    print(\" This string is palindrome string\")\n",
    "else:\n",
    "    print(\"This is not a palindrome string\")"
   ]
  },
  {
   "cell_type": "code",
   "execution_count": 13,
   "id": "3ef701d2-88aa-4162-8670-66e43061fcc8",
   "metadata": {},
   "outputs": [
    {
     "name": "stdin",
     "output_type": "stream",
     "text": [
      "Please enter a string Muskaan is a good girl\n"
     ]
    },
    {
     "name": "stdout",
     "output_type": "stream",
     "text": [
      "Muskaanisagoodgirl\n"
     ]
    }
   ],
   "source": [
    "'''Create a program that takes a string as input and removes all the spaces from\n",
    "it. Print the modified string without spaces.'''\n",
    "\n",
    "#Taking string as input\n",
    "str = input(\"Please enter a string\")\n",
    "#Remove spaces\n",
    "modified_str = str.replace(\" \",\"\")\n",
    "#Print the modified string without spaces\n",
    "print(modified_str)\n"
   ]
  },
  {
   "cell_type": "code",
   "execution_count": null,
   "id": "c5e8771d-d904-46c0-ad0a-9c7099ffa942",
   "metadata": {},
   "outputs": [],
   "source": []
  }
 ],
 "metadata": {
  "kernelspec": {
   "display_name": "Python 3 (ipykernel)",
   "language": "python",
   "name": "python3"
  },
  "language_info": {
   "codemirror_mode": {
    "name": "ipython",
    "version": 3
   },
   "file_extension": ".py",
   "mimetype": "text/x-python",
   "name": "python",
   "nbconvert_exporter": "python",
   "pygments_lexer": "ipython3",
   "version": "3.9.1"
  }
 },
 "nbformat": 4,
 "nbformat_minor": 5
}
